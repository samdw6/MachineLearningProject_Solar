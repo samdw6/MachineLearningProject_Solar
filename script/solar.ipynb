{
 "cells": [
  {
   "cell_type": "markdown",
   "metadata": {},
   "source": [
    "# Imports"
   ]
  },
  {
   "cell_type": "code",
   "execution_count": 1,
   "metadata": {},
   "outputs": [],
   "source": [
    "import pandas as pd\n",
    "import os\n",
    "from datetime import datetime\n",
    "import matplotlib.pyplot as plt\n",
    "import matplotlib_inline"
   ]
  },
  {
   "cell_type": "markdown",
   "metadata": {},
   "source": [
    "# Check current directory"
   ]
  },
  {
   "cell_type": "code",
   "execution_count": 2,
   "metadata": {},
   "outputs": [
    {
     "name": "stdout",
     "output_type": "stream",
     "text": [
      "Current directory: c:\\HoGent\\Jaar2\\ML\\Project\\MachineLearningProject_Solar\\script\n"
     ]
    }
   ],
   "source": [
    "current_directory = os.getcwd()\n",
    "print(\"Current directory:\", current_directory)"
   ]
  },
  {
   "cell_type": "markdown",
   "metadata": {},
   "source": [
    "# Load CSV files"
   ]
  },
  {
   "cell_type": "code",
   "execution_count": 3,
   "metadata": {},
   "outputs": [],
   "source": [
    "# Load CSV files\n",
    "csv1 = pd.read_csv('https://raw.githubusercontent.com/HOGENT-ML/course/main/datasets/solar.csv')\n",
    "csv2 = pd.read_csv('https://raw.githubusercontent.com/HOGENT-ML/course/main/datasets/weather.csv') \n",
    "\n",
    "# Load Excel file\n",
    "xlsx = pd.read_excel('../data/sunrise-sunset.xlsx')\n"
   ]
  },
  {
   "cell_type": "code",
   "execution_count": 4,
   "metadata": {},
   "outputs": [],
   "source": [
    "# # Load CSV files\n",
    "# csv1 = pd.read_csv('./course/datasets/solar.csv')\n",
    "# csv2 = pd.read_csv('./course/datasets/weather.csv')\n",
    "\n",
    "# # Load Excel file\n",
    "# xlsx = pd.read_excel('./course/datasets/sunrise-sunset.xlsx')\n"
   ]
  },
  {
   "cell_type": "markdown",
   "metadata": {},
   "source": [
    "# Convert CLSX to CSV file"
   ]
  },
  {
   "cell_type": "code",
   "execution_count": 5,
   "metadata": {},
   "outputs": [],
   "source": [
    "# convert xlsx to csv\n",
    "xlsx.to_csv('../data/sunrise-sunset.csv', index=False)\n"
   ]
  },
  {
   "cell_type": "markdown",
   "metadata": {},
   "source": [
    "# Load converted CSV file"
   ]
  },
  {
   "cell_type": "code",
   "execution_count": 6,
   "metadata": {},
   "outputs": [],
   "source": [
    "# Load the new csv file\n",
    "csv3 = pd.read_csv('../data/sunrise-sunset.csv')"
   ]
  },
  {
   "cell_type": "markdown",
   "metadata": {},
   "source": [
    "# Create dataframes"
   ]
  },
  {
   "cell_type": "code",
   "execution_count": 7,
   "metadata": {},
   "outputs": [],
   "source": [
    "#create dataframes\n",
    "df_solar = pd.DataFrame(csv1)\n",
    "df_weather = pd.DataFrame(csv2)\n",
    "df_sunrise_sunset = pd.DataFrame(csv3)"
   ]
  },
  {
   "cell_type": "markdown",
   "metadata": {},
   "source": [
    "# Convert timestamp to datetime from solar.csv"
   ]
  },
  {
   "cell_type": "code",
   "execution_count": 8,
   "metadata": {},
   "outputs": [],
   "source": [
    "def convert_date(df_solar):\n",
    "  date_format = \"%Y-%m-%d %H:%M:%S\"\n",
    "  string = str(df_solar)[:16] + \":00\"\n",
    "  new = datetime.strptime(string,date_format)\n",
    "  return new"
   ]
  },
  {
   "cell_type": "markdown",
   "metadata": {},
   "source": [
    "# Convert timestamp to datetime "
   ]
  },
  {
   "cell_type": "code",
   "execution_count": 9,
   "metadata": {},
   "outputs": [],
   "source": [
    "df_solar['timestamp'] = df_solar['timestamp'].apply(convert_date)\n",
    "df_weather['timestamp'] = pd.to_datetime(df_weather['timestamp'])\n",
    "df_sunrise_sunset['datum'] = pd.to_datetime(df_sunrise_sunset['datum'])"
   ]
  },
  {
   "cell_type": "markdown",
   "metadata": {},
   "source": [
    "# Merge solar and weather csv on timestamp"
   ]
  },
  {
   "cell_type": "code",
   "execution_count": 10,
   "metadata": {},
   "outputs": [],
   "source": [
    "# Merge the csv files \n",
    "df_merged = pd.merge_asof(df_solar,df_weather,on=\"timestamp\",direction=\"nearest\")"
   ]
  },
  {
   "cell_type": "markdown",
   "metadata": {},
   "source": [
    "# Save the merged dataframe to a new csv file"
   ]
  },
  {
   "cell_type": "code",
   "execution_count": 11,
   "metadata": {},
   "outputs": [],
   "source": [
    "df_merged.to_csv('../data/merged.csv', index=False)"
   ]
  },
  {
   "cell_type": "markdown",
   "metadata": {},
   "source": [
    "# Load the merged dataframe"
   ]
  },
  {
   "cell_type": "code",
   "execution_count": 12,
   "metadata": {},
   "outputs": [],
   "source": [
    "merged = pd.read_csv('../data/merged.csv')"
   ]
  },
  {
   "cell_type": "markdown",
   "metadata": {},
   "source": [
    "# Convert timestamp to datetime"
   ]
  },
  {
   "cell_type": "code",
   "execution_count": 13,
   "metadata": {},
   "outputs": [],
   "source": [
    "merged['timestamp'] = pd.to_datetime(merged['timestamp'])\n",
    "merged['timestamp'] = merged['timestamp'].dt.strftime('%Y-%m-%d %H:%M:%S')"
   ]
  },
  {
   "cell_type": "markdown",
   "metadata": {},
   "source": [
    "# Split the timestamp into date and time"
   ]
  },
  {
   "cell_type": "code",
   "execution_count": 14,
   "metadata": {},
   "outputs": [
    {
     "name": "stdout",
     "output_type": "stream",
     "text": [
      "0       2023-03-11\n",
      "1       2023-03-11\n",
      "2       2023-03-11\n",
      "3       2023-03-11\n",
      "4       2023-03-11\n",
      "           ...    \n",
      "7902    2024-02-04\n",
      "7903    2024-02-04\n",
      "7904    2024-02-04\n",
      "7905    2024-02-04\n",
      "7906    2024-02-04\n",
      "Name: date, Length: 7907, dtype: object\n",
      "0       16:00:00\n",
      "1       17:00:00\n",
      "2       18:00:00\n",
      "3       19:00:00\n",
      "4       20:00:00\n",
      "          ...   \n",
      "7902    07:00:00\n",
      "7903    08:00:00\n",
      "7904    09:00:00\n",
      "7905    10:00:00\n",
      "7906    11:00:00\n",
      "Name: time, Length: 7907, dtype: object\n"
     ]
    }
   ],
   "source": [
    "merged['date'] = merged['timestamp'].apply(lambda x: x.split(' ')[0])\n",
    "print(merged['date'])\n",
    "merged['time'] = merged['timestamp'].apply(lambda x: x.split(' ')[1])\n",
    "print(merged['time'])"
   ]
  },
  {
   "cell_type": "markdown",
   "metadata": {},
   "source": [
    "## Column time formatted as HH:MM"
   ]
  },
  {
   "cell_type": "code",
   "execution_count": 15,
   "metadata": {},
   "outputs": [
    {
     "name": "stdout",
     "output_type": "stream",
     "text": [
      "0       16:00\n",
      "1       17:00\n",
      "2       18:00\n",
      "3       19:00\n",
      "4       20:00\n",
      "        ...  \n",
      "7902    07:00\n",
      "7903    08:00\n",
      "7904    09:00\n",
      "7905    10:00\n",
      "7906    11:00\n",
      "Name: time, Length: 7907, dtype: object\n"
     ]
    }
   ],
   "source": [
    "merged['time'] = merged['time'].apply(lambda x: x[:5])\n",
    "print(merged['time'])"
   ]
  },
  {
   "cell_type": "markdown",
   "metadata": {},
   "source": [
    "# Save the new dataframe "
   ]
  },
  {
   "cell_type": "code",
   "execution_count": 16,
   "metadata": {},
   "outputs": [],
   "source": [
    "merged.to_csv('../data/merged.csv', index=False)"
   ]
  },
  {
   "cell_type": "markdown",
   "metadata": {},
   "source": [
    "# Load the new dataframe"
   ]
  },
  {
   "cell_type": "code",
   "execution_count": 17,
   "metadata": {},
   "outputs": [],
   "source": [
    "merged = pd.read_csv('../data/merged.csv')"
   ]
  },
  {
   "cell_type": "markdown",
   "metadata": {},
   "source": [
    "# Convert date column to datetime"
   ]
  },
  {
   "cell_type": "code",
   "execution_count": 18,
   "metadata": {},
   "outputs": [],
   "source": [
    "merged['date'] = pd.to_datetime(merged['date'])"
   ]
  },
  {
   "cell_type": "markdown",
   "metadata": {},
   "source": [
    "## Check the data type of the date column and the datum column in the solar dataframe"
   ]
  },
  {
   "cell_type": "code",
   "execution_count": 19,
   "metadata": {},
   "outputs": [
    {
     "name": "stdout",
     "output_type": "stream",
     "text": [
      "datetime64[ns]\n",
      "datetime64[ns]\n"
     ]
    }
   ],
   "source": [
    "print(merged['date'].dtype)\n",
    "print(df_sunrise_sunset['datum'].dtype)"
   ]
  },
  {
   "cell_type": "markdown",
   "metadata": {},
   "source": [
    "# Merge the solar and weather dataframes on date"
   ]
  },
  {
   "cell_type": "code",
   "execution_count": 20,
   "metadata": {},
   "outputs": [],
   "source": [
    "df_merged = pd.merge(merged,df_sunrise_sunset,left_on=\"date\",right_on=\"datum\",how=\"left\")"
   ]
  },
  {
   "cell_type": "markdown",
   "metadata": {},
   "source": [
    "# Save the merged dataframe into the merged.csv file"
   ]
  },
  {
   "cell_type": "code",
   "execution_count": 21,
   "metadata": {},
   "outputs": [],
   "source": [
    "df_merged.to_csv('../data/merged.csv', index=False)"
   ]
  },
  {
   "cell_type": "code",
   "execution_count": 22,
   "metadata": {},
   "outputs": [
    {
     "data": {
      "text/html": [
       "<div>\n",
       "<style scoped>\n",
       "    .dataframe tbody tr th:only-of-type {\n",
       "        vertical-align: middle;\n",
       "    }\n",
       "\n",
       "    .dataframe tbody tr th {\n",
       "        vertical-align: top;\n",
       "    }\n",
       "\n",
       "    .dataframe thead th {\n",
       "        text-align: right;\n",
       "    }\n",
       "</style>\n",
       "<table border=\"1\" class=\"dataframe\">\n",
       "  <thead>\n",
       "    <tr style=\"text-align: right;\">\n",
       "      <th></th>\n",
       "      <th>timestamp</th>\n",
       "      <th>kwh</th>\n",
       "      <th>FID</th>\n",
       "      <th>the_geom</th>\n",
       "      <th>code</th>\n",
       "      <th>precip_quantity</th>\n",
       "      <th>precip_range</th>\n",
       "      <th>temp</th>\n",
       "      <th>temp_min</th>\n",
       "      <th>temp_max</th>\n",
       "      <th>...</th>\n",
       "      <th>pressure_station_level</th>\n",
       "      <th>sun_duration_24hours</th>\n",
       "      <th>short_wave_from_sky_24hours</th>\n",
       "      <th>cloudiness</th>\n",
       "      <th>date</th>\n",
       "      <th>time</th>\n",
       "      <th>datum</th>\n",
       "      <th>Opkomst</th>\n",
       "      <th>Op ware middag</th>\n",
       "      <th>Ondergang</th>\n",
       "    </tr>\n",
       "  </thead>\n",
       "  <tbody>\n",
       "    <tr>\n",
       "      <th>0</th>\n",
       "      <td>2023-03-11 16:00:00</td>\n",
       "      <td>0.54</td>\n",
       "      <td>synop_data.6407.2023-03-11 16:00:00+00</td>\n",
       "      <td>POINT (51.200341 2.887306)</td>\n",
       "      <td>6407</td>\n",
       "      <td>NaN</td>\n",
       "      <td>NaN</td>\n",
       "      <td>5.8</td>\n",
       "      <td>NaN</td>\n",
       "      <td>NaN</td>\n",
       "      <td>...</td>\n",
       "      <td>1010.9</td>\n",
       "      <td>NaN</td>\n",
       "      <td>NaN</td>\n",
       "      <td>7.0</td>\n",
       "      <td>2023-03-11</td>\n",
       "      <td>16:00</td>\n",
       "      <td>2023-03-11</td>\n",
       "      <td>07:06:00</td>\n",
       "      <td>12:53:00</td>\n",
       "      <td>18:40:00</td>\n",
       "    </tr>\n",
       "    <tr>\n",
       "      <th>1</th>\n",
       "      <td>2023-03-11 17:00:00</td>\n",
       "      <td>1.02</td>\n",
       "      <td>synop_data.6434.2023-03-11 17:00:00+00</td>\n",
       "      <td>POINT (50.980293 3.816003)</td>\n",
       "      <td>6434</td>\n",
       "      <td>NaN</td>\n",
       "      <td>NaN</td>\n",
       "      <td>6.1</td>\n",
       "      <td>NaN</td>\n",
       "      <td>NaN</td>\n",
       "      <td>...</td>\n",
       "      <td>1009.7</td>\n",
       "      <td>NaN</td>\n",
       "      <td>NaN</td>\n",
       "      <td>NaN</td>\n",
       "      <td>2023-03-11</td>\n",
       "      <td>17:00</td>\n",
       "      <td>2023-03-11</td>\n",
       "      <td>07:06:00</td>\n",
       "      <td>12:53:00</td>\n",
       "      <td>18:40:00</td>\n",
       "    </tr>\n",
       "    <tr>\n",
       "      <th>2</th>\n",
       "      <td>2023-03-11 18:00:00</td>\n",
       "      <td>1.17</td>\n",
       "      <td>synop_data.6418.2023-03-11 18:00:00+00</td>\n",
       "      <td>POINT (51.347375 3.201846)</td>\n",
       "      <td>6418</td>\n",
       "      <td>0.0</td>\n",
       "      <td>2.0</td>\n",
       "      <td>5.4</td>\n",
       "      <td>NaN</td>\n",
       "      <td>7.7</td>\n",
       "      <td>...</td>\n",
       "      <td>1010.2</td>\n",
       "      <td>NaN</td>\n",
       "      <td>NaN</td>\n",
       "      <td>NaN</td>\n",
       "      <td>2023-03-11</td>\n",
       "      <td>18:00</td>\n",
       "      <td>2023-03-11</td>\n",
       "      <td>07:06:00</td>\n",
       "      <td>12:53:00</td>\n",
       "      <td>18:40:00</td>\n",
       "    </tr>\n",
       "    <tr>\n",
       "      <th>3</th>\n",
       "      <td>2023-03-11 19:00:00</td>\n",
       "      <td>1.18</td>\n",
       "      <td>synop_data.6434.2023-03-11 19:00:00+00</td>\n",
       "      <td>POINT (50.980293 3.816003)</td>\n",
       "      <td>6434</td>\n",
       "      <td>NaN</td>\n",
       "      <td>NaN</td>\n",
       "      <td>3.7</td>\n",
       "      <td>NaN</td>\n",
       "      <td>NaN</td>\n",
       "      <td>...</td>\n",
       "      <td>1010.1</td>\n",
       "      <td>NaN</td>\n",
       "      <td>NaN</td>\n",
       "      <td>NaN</td>\n",
       "      <td>2023-03-11</td>\n",
       "      <td>19:00</td>\n",
       "      <td>2023-03-11</td>\n",
       "      <td>07:06:00</td>\n",
       "      <td>12:53:00</td>\n",
       "      <td>18:40:00</td>\n",
       "    </tr>\n",
       "    <tr>\n",
       "      <th>4</th>\n",
       "      <td>2023-03-11 20:00:00</td>\n",
       "      <td>1.18</td>\n",
       "      <td>synop_data.6418.2023-03-11 20:00:00+00</td>\n",
       "      <td>POINT (51.347375 3.201846)</td>\n",
       "      <td>6418</td>\n",
       "      <td>NaN</td>\n",
       "      <td>NaN</td>\n",
       "      <td>5.3</td>\n",
       "      <td>NaN</td>\n",
       "      <td>NaN</td>\n",
       "      <td>...</td>\n",
       "      <td>1010.0</td>\n",
       "      <td>NaN</td>\n",
       "      <td>NaN</td>\n",
       "      <td>NaN</td>\n",
       "      <td>2023-03-11</td>\n",
       "      <td>20:00</td>\n",
       "      <td>2023-03-11</td>\n",
       "      <td>07:06:00</td>\n",
       "      <td>12:53:00</td>\n",
       "      <td>18:40:00</td>\n",
       "    </tr>\n",
       "  </tbody>\n",
       "</table>\n",
       "<p>5 rows × 28 columns</p>\n",
       "</div>"
      ],
      "text/plain": [
       "             timestamp   kwh                                     FID  \\\n",
       "0  2023-03-11 16:00:00  0.54  synop_data.6407.2023-03-11 16:00:00+00   \n",
       "1  2023-03-11 17:00:00  1.02  synop_data.6434.2023-03-11 17:00:00+00   \n",
       "2  2023-03-11 18:00:00  1.17  synop_data.6418.2023-03-11 18:00:00+00   \n",
       "3  2023-03-11 19:00:00  1.18  synop_data.6434.2023-03-11 19:00:00+00   \n",
       "4  2023-03-11 20:00:00  1.18  synop_data.6418.2023-03-11 20:00:00+00   \n",
       "\n",
       "                     the_geom  code  precip_quantity  precip_range  temp  \\\n",
       "0  POINT (51.200341 2.887306)  6407              NaN           NaN   5.8   \n",
       "1  POINT (50.980293 3.816003)  6434              NaN           NaN   6.1   \n",
       "2  POINT (51.347375 3.201846)  6418              0.0           2.0   5.4   \n",
       "3  POINT (50.980293 3.816003)  6434              NaN           NaN   3.7   \n",
       "4  POINT (51.347375 3.201846)  6418              NaN           NaN   5.3   \n",
       "\n",
       "   temp_min  temp_max  ...  pressure_station_level  sun_duration_24hours  \\\n",
       "0       NaN       NaN  ...                  1010.9                   NaN   \n",
       "1       NaN       NaN  ...                  1009.7                   NaN   \n",
       "2       NaN       7.7  ...                  1010.2                   NaN   \n",
       "3       NaN       NaN  ...                  1010.1                   NaN   \n",
       "4       NaN       NaN  ...                  1010.0                   NaN   \n",
       "\n",
       "   short_wave_from_sky_24hours  cloudiness       date   time      datum  \\\n",
       "0                          NaN         7.0 2023-03-11  16:00 2023-03-11   \n",
       "1                          NaN         NaN 2023-03-11  17:00 2023-03-11   \n",
       "2                          NaN         NaN 2023-03-11  18:00 2023-03-11   \n",
       "3                          NaN         NaN 2023-03-11  19:00 2023-03-11   \n",
       "4                          NaN         NaN 2023-03-11  20:00 2023-03-11   \n",
       "\n",
       "    Opkomst  Op ware middag  Ondergang  \n",
       "0  07:06:00        12:53:00   18:40:00  \n",
       "1  07:06:00        12:53:00   18:40:00  \n",
       "2  07:06:00        12:53:00   18:40:00  \n",
       "3  07:06:00        12:53:00   18:40:00  \n",
       "4  07:06:00        12:53:00   18:40:00  \n",
       "\n",
       "[5 rows x 28 columns]"
      ]
     },
     "execution_count": 22,
     "metadata": {},
     "output_type": "execute_result"
    }
   ],
   "source": [
    "df_merged.head()"
   ]
  },
  {
   "cell_type": "markdown",
   "metadata": {},
   "source": [
    "# add new column for the generation of solar power in kWh/h "
   ]
  },
  {
   "cell_type": "code",
   "execution_count": 23,
   "metadata": {},
   "outputs": [],
   "source": [
    "df_merged['kwh_per_hour'] = df_merged['kwh'].diff()\n"
   ]
  },
  {
   "cell_type": "markdown",
   "metadata": {},
   "source": [
    "# Line plot of the generation of solar power in kWh/h of the 6th of July 2023"
   ]
  },
  {
   "cell_type": "code",
   "execution_count": 24,
   "metadata": {},
   "outputs": [
    {
     "data": {
      "image/png": "[encoded data removed]",
      "text/plain": [
       "<Figure size 1000x600 with 1 Axes>"
      ]
     },
     "metadata": {},
     "output_type": "display_data"
    }
   ],
   "source": [
    "# Convert timestamps to datetime objects if needed\n",
    "df_merged['timestamp'] = pd.to_datetime(df_merged['timestamp'])\n",
    "\n",
    "# Filter data for July 6, 2023\n",
    "july_6_data = df_merged[df_merged['timestamp'].dt.date == pd.to_datetime('2023-07-06').date()]\n",
    "\n",
    "# Plotting\n",
    "plt.figure(figsize=(10, 6))\n",
    "plt.plot(july_6_data['timestamp'].dt.hour, july_6_data['kwh_per_hour'], marker='o', linestyle='-')\n",
    "plt.xlabel('Hour of the Day')\n",
    "plt.ylabel('kWh per Hour')\n",
    "plt.title('kWh per Hour for July 6, 2023')\n",
    "plt.grid(True)\n",
    "plt.show()"
   ]
  },
  {
   "cell_type": "code",
   "execution_count": 25,
   "metadata": {},
   "outputs": [
    {
     "name": "stdout",
     "output_type": "stream",
     "text": [
      "<class 'pandas.core.frame.DataFrame'>\n",
      "Int64Index: 7907 entries, 0 to 7906\n",
      "Data columns (total 29 columns):\n",
      " #   Column                       Non-Null Count  Dtype         \n",
      "---  ------                       --------------  -----         \n",
      " 0   timestamp                    7907 non-null   datetime64[ns]\n",
      " 1   kwh                          7907 non-null   float64       \n",
      " 2   FID                          7907 non-null   object        \n",
      " 3   the_geom                     7907 non-null   object        \n",
      " 4   code                         7907 non-null   int64         \n",
      " 5   precip_quantity              1485 non-null   float64       \n",
      " 6   precip_range                 1503 non-null   float64       \n",
      " 7   temp                         7907 non-null   float64       \n",
      " 8   temp_min                     313 non-null    float64       \n",
      " 9   temp_max                     313 non-null    float64       \n",
      " 10  temp_grass_min               296 non-null    float64       \n",
      " 11  wind_speed                   7906 non-null   float64       \n",
      " 12  wind_speed_unit              7907 non-null   int64         \n",
      " 13  wind_direction               7784 non-null   float64       \n",
      " 14  wind_peak_speed              7905 non-null   float64       \n",
      " 15  humidity_relative            6320 non-null   float64       \n",
      " 16  weather_current              445 non-null    float64       \n",
      " 17  pressure                     7906 non-null   float64       \n",
      " 18  pressure_station_level       7907 non-null   float64       \n",
      " 19  sun_duration_24hours         507 non-null    float64       \n",
      " 20  short_wave_from_sky_24hours  367 non-null    float64       \n",
      " 21  cloudiness                   2378 non-null   float64       \n",
      " 22  date                         7907 non-null   datetime64[ns]\n",
      " 23  time                         7907 non-null   object        \n",
      " 24  datum                        7907 non-null   datetime64[ns]\n",
      " 25  Opkomst                      7907 non-null   object        \n",
      " 26  Op ware middag               7907 non-null   object        \n",
      " 27  Ondergang                    7907 non-null   object        \n",
      " 28  kwh_per_hour                 7906 non-null   float64       \n",
      "dtypes: datetime64[ns](3), float64(18), int64(2), object(6)\n",
      "memory usage: 1.8+ MB\n"
     ]
    }
   ],
   "source": [
    "df_merged.info()"
   ]
  },
  {
   "cell_type": "code",
   "execution_count": 26,
   "metadata": {},
   "outputs": [
    {
     "data": {
      "text/html": [
       "<div>\n",
       "<style scoped>\n",
       "    .dataframe tbody tr th:only-of-type {\n",
       "        vertical-align: middle;\n",
       "    }\n",
       "\n",
       "    .dataframe tbody tr th {\n",
       "        vertical-align: top;\n",
       "    }\n",
       "\n",
       "    .dataframe thead th {\n",
       "        text-align: right;\n",
       "    }\n",
       "</style>\n",
       "<table border=\"1\" class=\"dataframe\">\n",
       "  <thead>\n",
       "    <tr style=\"text-align: right;\">\n",
       "      <th></th>\n",
       "      <th>timestamp</th>\n",
       "      <th>kwh</th>\n",
       "      <th>FID</th>\n",
       "      <th>the_geom</th>\n",
       "      <th>code</th>\n",
       "      <th>precip_quantity</th>\n",
       "      <th>precip_range</th>\n",
       "      <th>temp</th>\n",
       "      <th>temp_min</th>\n",
       "      <th>temp_max</th>\n",
       "      <th>...</th>\n",
       "      <th>sun_duration_24hours</th>\n",
       "      <th>short_wave_from_sky_24hours</th>\n",
       "      <th>cloudiness</th>\n",
       "      <th>date</th>\n",
       "      <th>time</th>\n",
       "      <th>datum</th>\n",
       "      <th>Opkomst</th>\n",
       "      <th>Op ware middag</th>\n",
       "      <th>Ondergang</th>\n",
       "      <th>kwh_per_hour</th>\n",
       "    </tr>\n",
       "  </thead>\n",
       "  <tbody>\n",
       "    <tr>\n",
       "      <th>0</th>\n",
       "      <td>2023-03-11 16:00:00</td>\n",
       "      <td>0.54</td>\n",
       "      <td>synop_data.6407.2023-03-11 16:00:00+00</td>\n",
       "      <td>POINT (51.200341 2.887306)</td>\n",
       "      <td>6407</td>\n",
       "      <td>NaN</td>\n",
       "      <td>NaN</td>\n",
       "      <td>5.8</td>\n",
       "      <td>NaN</td>\n",
       "      <td>NaN</td>\n",
       "      <td>...</td>\n",
       "      <td>NaN</td>\n",
       "      <td>NaN</td>\n",
       "      <td>7.0</td>\n",
       "      <td>2023-03-11</td>\n",
       "      <td>16:00</td>\n",
       "      <td>2023-03-11</td>\n",
       "      <td>07:06:00</td>\n",
       "      <td>12:53:00</td>\n",
       "      <td>18:40:00</td>\n",
       "      <td>NaN</td>\n",
       "    </tr>\n",
       "    <tr>\n",
       "      <th>1</th>\n",
       "      <td>2023-03-11 17:00:00</td>\n",
       "      <td>1.02</td>\n",
       "      <td>synop_data.6434.2023-03-11 17:00:00+00</td>\n",
       "      <td>POINT (50.980293 3.816003)</td>\n",
       "      <td>6434</td>\n",
       "      <td>NaN</td>\n",
       "      <td>NaN</td>\n",
       "      <td>6.1</td>\n",
       "      <td>NaN</td>\n",
       "      <td>NaN</td>\n",
       "      <td>...</td>\n",
       "      <td>NaN</td>\n",
       "      <td>NaN</td>\n",
       "      <td>NaN</td>\n",
       "      <td>2023-03-11</td>\n",
       "      <td>17:00</td>\n",
       "      <td>2023-03-11</td>\n",
       "      <td>07:06:00</td>\n",
       "      <td>12:53:00</td>\n",
       "      <td>18:40:00</td>\n",
       "      <td>0.48</td>\n",
       "    </tr>\n",
       "    <tr>\n",
       "      <th>2</th>\n",
       "      <td>2023-03-11 18:00:00</td>\n",
       "      <td>1.17</td>\n",
       "      <td>synop_data.6418.2023-03-11 18:00:00+00</td>\n",
       "      <td>POINT (51.347375 3.201846)</td>\n",
       "      <td>6418</td>\n",
       "      <td>0.0</td>\n",
       "      <td>2.0</td>\n",
       "      <td>5.4</td>\n",
       "      <td>NaN</td>\n",
       "      <td>7.7</td>\n",
       "      <td>...</td>\n",
       "      <td>NaN</td>\n",
       "      <td>NaN</td>\n",
       "      <td>NaN</td>\n",
       "      <td>2023-03-11</td>\n",
       "      <td>18:00</td>\n",
       "      <td>2023-03-11</td>\n",
       "      <td>07:06:00</td>\n",
       "      <td>12:53:00</td>\n",
       "      <td>18:40:00</td>\n",
       "      <td>0.15</td>\n",
       "    </tr>\n",
       "    <tr>\n",
       "      <th>3</th>\n",
       "      <td>2023-03-11 19:00:00</td>\n",
       "      <td>1.18</td>\n",
       "      <td>synop_data.6434.2023-03-11 19:00:00+00</td>\n",
       "      <td>POINT (50.980293 3.816003)</td>\n",
       "      <td>6434</td>\n",
       "      <td>NaN</td>\n",
       "      <td>NaN</td>\n",
       "      <td>3.7</td>\n",
       "      <td>NaN</td>\n",
       "      <td>NaN</td>\n",
       "      <td>...</td>\n",
       "      <td>NaN</td>\n",
       "      <td>NaN</td>\n",
       "      <td>NaN</td>\n",
       "      <td>2023-03-11</td>\n",
       "      <td>19:00</td>\n",
       "      <td>2023-03-11</td>\n",
       "      <td>07:06:00</td>\n",
       "      <td>12:53:00</td>\n",
       "      <td>18:40:00</td>\n",
       "      <td>0.01</td>\n",
       "    </tr>\n",
       "    <tr>\n",
       "      <th>4</th>\n",
       "      <td>2023-03-11 20:00:00</td>\n",
       "      <td>1.18</td>\n",
       "      <td>synop_data.6418.2023-03-11 20:00:00+00</td>\n",
       "      <td>POINT (51.347375 3.201846)</td>\n",
       "      <td>6418</td>\n",
       "      <td>NaN</td>\n",
       "      <td>NaN</td>\n",
       "      <td>5.3</td>\n",
       "      <td>NaN</td>\n",
       "      <td>NaN</td>\n",
       "      <td>...</td>\n",
       "      <td>NaN</td>\n",
       "      <td>NaN</td>\n",
       "      <td>NaN</td>\n",
       "      <td>2023-03-11</td>\n",
       "      <td>20:00</td>\n",
       "      <td>2023-03-11</td>\n",
       "      <td>07:06:00</td>\n",
       "      <td>12:53:00</td>\n",
       "      <td>18:40:00</td>\n",
       "      <td>0.00</td>\n",
       "    </tr>\n",
       "  </tbody>\n",
       "</table>\n",
       "<p>5 rows × 29 columns</p>\n",
       "</div>"
      ],
      "text/plain": [
       "            timestamp   kwh                                     FID  \\\n",
       "0 2023-03-11 16:00:00  0.54  synop_data.6407.2023-03-11 16:00:00+00   \n",
       "1 2023-03-11 17:00:00  1.02  synop_data.6434.2023-03-11 17:00:00+00   \n",
       "2 2023-03-11 18:00:00  1.17  synop_data.6418.2023-03-11 18:00:00+00   \n",
       "3 2023-03-11 19:00:00  1.18  synop_data.6434.2023-03-11 19:00:00+00   \n",
       "4 2023-03-11 20:00:00  1.18  synop_data.6418.2023-03-11 20:00:00+00   \n",
       "\n",
       "                     the_geom  code  precip_quantity  precip_range  temp  \\\n",
       "0  POINT (51.200341 2.887306)  6407              NaN           NaN   5.8   \n",
       "1  POINT (50.980293 3.816003)  6434              NaN           NaN   6.1   \n",
       "2  POINT (51.347375 3.201846)  6418              0.0           2.0   5.4   \n",
       "3  POINT (50.980293 3.816003)  6434              NaN           NaN   3.7   \n",
       "4  POINT (51.347375 3.201846)  6418              NaN           NaN   5.3   \n",
       "\n",
       "   temp_min  temp_max  ...  sun_duration_24hours  short_wave_from_sky_24hours  \\\n",
       "0       NaN       NaN  ...                   NaN                          NaN   \n",
       "1       NaN       NaN  ...                   NaN                          NaN   \n",
       "2       NaN       7.7  ...                   NaN                          NaN   \n",
       "3       NaN       NaN  ...                   NaN                          NaN   \n",
       "4       NaN       NaN  ...                   NaN                          NaN   \n",
       "\n",
       "   cloudiness       date   time      datum   Opkomst  Op ware middag  \\\n",
       "0         7.0 2023-03-11  16:00 2023-03-11  07:06:00        12:53:00   \n",
       "1         NaN 2023-03-11  17:00 2023-03-11  07:06:00        12:53:00   \n",
       "2         NaN 2023-03-11  18:00 2023-03-11  07:06:00        12:53:00   \n",
       "3         NaN 2023-03-11  19:00 2023-03-11  07:06:00        12:53:00   \n",
       "4         NaN 2023-03-11  20:00 2023-03-11  07:06:00        12:53:00   \n",
       "\n",
       "   Ondergang  kwh_per_hour  \n",
       "0   18:40:00           NaN  \n",
       "1   18:40:00          0.48  \n",
       "2   18:40:00          0.15  \n",
       "3   18:40:00          0.01  \n",
       "4   18:40:00          0.00  \n",
       "\n",
       "[5 rows x 29 columns]"
      ]
     },
     "execution_count": 26,
     "metadata": {},
     "output_type": "execute_result"
    }
   ],
   "source": [
    "df_merged.head()"
   ]
  },
  {
   "cell_type": "markdown",
   "metadata": {},
   "source": [
    "# Line plot of the temperature over the 6th of July 2023"
   ]
  },
  {
   "cell_type": "code",
   "execution_count": 27,
   "metadata": {},
   "outputs": [
    {
     "data": {
      "image/png": "[encoded data removed]",
      "text/plain": [
       "<Figure size 1000x600 with 1 Axes>"
      ]
     },
     "metadata": {},
     "output_type": "display_data"
    }
   ],
   "source": [
    "# Convert timestamps to datetime objects if needed\n",
    "df_merged['timestamp'] = pd.to_datetime(df_merged['timestamp'])\n",
    "\n",
    "# Filter data for July 6, 2023\n",
    "july_6_data = df_merged[df_merged['timestamp'].dt.date == pd.to_datetime('2023-07-06').date()]\n",
    "\n",
    "# Plotting\n",
    "plt.figure(figsize=(10, 6))\n",
    "plt.plot(july_6_data['timestamp'].dt.hour, july_6_data['temp'], marker='o', linestyle='-')\n",
    "plt.xlabel('Hour of the Day')\n",
    "plt.xticks(range(0, 24,2))\n",
    "plt.ylabel('Temperature')\n",
    "plt.yticks(range(0, 30,5))\n",
    "plt.title('Temperature on July 6, 2023')\n",
    "plt.grid(True)\n",
    "plt.show()\n"
   ]
  },
  {
   "cell_type": "markdown",
   "metadata": {},
   "source": [
    "# Cleaning the data"
   ]
  },
  {
   "cell_type": "code",
   "execution_count": 28,
   "metadata": {},
   "outputs": [
    {
     "data": {
      "text/html": [
       "<div>\n",
       "<style scoped>\n",
       "    .dataframe tbody tr th:only-of-type {\n",
       "        vertical-align: middle;\n",
       "    }\n",
       "\n",
       "    .dataframe tbody tr th {\n",
       "        vertical-align: top;\n",
       "    }\n",
       "\n",
       "    .dataframe thead th {\n",
       "        text-align: right;\n",
       "    }\n",
       "</style>\n",
       "<table border=\"1\" class=\"dataframe\">\n",
       "  <thead>\n",
       "    <tr style=\"text-align: right;\">\n",
       "      <th></th>\n",
       "      <th>timestamp</th>\n",
       "      <th>kwh</th>\n",
       "      <th>FID</th>\n",
       "      <th>the_geom</th>\n",
       "      <th>code</th>\n",
       "      <th>precip_quantity</th>\n",
       "      <th>precip_range</th>\n",
       "      <th>temp</th>\n",
       "      <th>temp_min</th>\n",
       "      <th>temp_max</th>\n",
       "      <th>...</th>\n",
       "      <th>sun_duration_24hours</th>\n",
       "      <th>short_wave_from_sky_24hours</th>\n",
       "      <th>cloudiness</th>\n",
       "      <th>date</th>\n",
       "      <th>time</th>\n",
       "      <th>datum</th>\n",
       "      <th>Opkomst</th>\n",
       "      <th>Op ware middag</th>\n",
       "      <th>Ondergang</th>\n",
       "      <th>kwh_per_hour</th>\n",
       "    </tr>\n",
       "  </thead>\n",
       "  <tbody>\n",
       "    <tr>\n",
       "      <th>0</th>\n",
       "      <td>2023-03-11 16:00:00</td>\n",
       "      <td>0.54</td>\n",
       "      <td>synop_data.6407.2023-03-11 16:00:00+00</td>\n",
       "      <td>POINT (51.200341 2.887306)</td>\n",
       "      <td>6407</td>\n",
       "      <td>NaN</td>\n",
       "      <td>NaN</td>\n",
       "      <td>5.8</td>\n",
       "      <td>NaN</td>\n",
       "      <td>NaN</td>\n",
       "      <td>...</td>\n",
       "      <td>NaN</td>\n",
       "      <td>NaN</td>\n",
       "      <td>7.0</td>\n",
       "      <td>2023-03-11</td>\n",
       "      <td>16:00</td>\n",
       "      <td>2023-03-11</td>\n",
       "      <td>07:06:00</td>\n",
       "      <td>12:53:00</td>\n",
       "      <td>18:40:00</td>\n",
       "      <td>NaN</td>\n",
       "    </tr>\n",
       "    <tr>\n",
       "      <th>1</th>\n",
       "      <td>2023-03-11 17:00:00</td>\n",
       "      <td>1.02</td>\n",
       "      <td>synop_data.6434.2023-03-11 17:00:00+00</td>\n",
       "      <td>POINT (50.980293 3.816003)</td>\n",
       "      <td>6434</td>\n",
       "      <td>NaN</td>\n",
       "      <td>NaN</td>\n",
       "      <td>6.1</td>\n",
       "      <td>NaN</td>\n",
       "      <td>NaN</td>\n",
       "      <td>...</td>\n",
       "      <td>NaN</td>\n",
       "      <td>NaN</td>\n",
       "      <td>NaN</td>\n",
       "      <td>2023-03-11</td>\n",
       "      <td>17:00</td>\n",
       "      <td>2023-03-11</td>\n",
       "      <td>07:06:00</td>\n",
       "      <td>12:53:00</td>\n",
       "      <td>18:40:00</td>\n",
       "      <td>0.48</td>\n",
       "    </tr>\n",
       "    <tr>\n",
       "      <th>2</th>\n",
       "      <td>2023-03-11 18:00:00</td>\n",
       "      <td>1.17</td>\n",
       "      <td>synop_data.6418.2023-03-11 18:00:00+00</td>\n",
       "      <td>POINT (51.347375 3.201846)</td>\n",
       "      <td>6418</td>\n",
       "      <td>0.0</td>\n",
       "      <td>2.0</td>\n",
       "      <td>5.4</td>\n",
       "      <td>NaN</td>\n",
       "      <td>7.7</td>\n",
       "      <td>...</td>\n",
       "      <td>NaN</td>\n",
       "      <td>NaN</td>\n",
       "      <td>NaN</td>\n",
       "      <td>2023-03-11</td>\n",
       "      <td>18:00</td>\n",
       "      <td>2023-03-11</td>\n",
       "      <td>07:06:00</td>\n",
       "      <td>12:53:00</td>\n",
       "      <td>18:40:00</td>\n",
       "      <td>0.15</td>\n",
       "    </tr>\n",
       "    <tr>\n",
       "      <th>3</th>\n",
       "      <td>2023-03-11 19:00:00</td>\n",
       "      <td>1.18</td>\n",
       "      <td>synop_data.6434.2023-03-11 19:00:00+00</td>\n",
       "      <td>POINT (50.980293 3.816003)</td>\n",
       "      <td>6434</td>\n",
       "      <td>NaN</td>\n",
       "      <td>NaN</td>\n",
       "      <td>3.7</td>\n",
       "      <td>NaN</td>\n",
       "      <td>NaN</td>\n",
       "      <td>...</td>\n",
       "      <td>NaN</td>\n",
       "      <td>NaN</td>\n",
       "      <td>NaN</td>\n",
       "      <td>2023-03-11</td>\n",
       "      <td>19:00</td>\n",
       "      <td>2023-03-11</td>\n",
       "      <td>07:06:00</td>\n",
       "      <td>12:53:00</td>\n",
       "      <td>18:40:00</td>\n",
       "      <td>0.01</td>\n",
       "    </tr>\n",
       "    <tr>\n",
       "      <th>4</th>\n",
       "      <td>2023-03-11 20:00:00</td>\n",
       "      <td>1.18</td>\n",
       "      <td>synop_data.6418.2023-03-11 20:00:00+00</td>\n",
       "      <td>POINT (51.347375 3.201846)</td>\n",
       "      <td>6418</td>\n",
       "      <td>NaN</td>\n",
       "      <td>NaN</td>\n",
       "      <td>5.3</td>\n",
       "      <td>NaN</td>\n",
       "      <td>NaN</td>\n",
       "      <td>...</td>\n",
       "      <td>NaN</td>\n",
       "      <td>NaN</td>\n",
       "      <td>NaN</td>\n",
       "      <td>2023-03-11</td>\n",
       "      <td>20:00</td>\n",
       "      <td>2023-03-11</td>\n",
       "      <td>07:06:00</td>\n",
       "      <td>12:53:00</td>\n",
       "      <td>18:40:00</td>\n",
       "      <td>0.00</td>\n",
       "    </tr>\n",
       "  </tbody>\n",
       "</table>\n",
       "<p>5 rows × 29 columns</p>\n",
       "</div>"
      ],
      "text/plain": [
       "            timestamp   kwh                                     FID  \\\n",
       "0 2023-03-11 16:00:00  0.54  synop_data.6407.2023-03-11 16:00:00+00   \n",
       "1 2023-03-11 17:00:00  1.02  synop_data.6434.2023-03-11 17:00:00+00   \n",
       "2 2023-03-11 18:00:00  1.17  synop_data.6418.2023-03-11 18:00:00+00   \n",
       "3 2023-03-11 19:00:00  1.18  synop_data.6434.2023-03-11 19:00:00+00   \n",
       "4 2023-03-11 20:00:00  1.18  synop_data.6418.2023-03-11 20:00:00+00   \n",
       "\n",
       "                     the_geom  code  precip_quantity  precip_range  temp  \\\n",
       "0  POINT (51.200341 2.887306)  6407              NaN           NaN   5.8   \n",
       "1  POINT (50.980293 3.816003)  6434              NaN           NaN   6.1   \n",
       "2  POINT (51.347375 3.201846)  6418              0.0           2.0   5.4   \n",
       "3  POINT (50.980293 3.816003)  6434              NaN           NaN   3.7   \n",
       "4  POINT (51.347375 3.201846)  6418              NaN           NaN   5.3   \n",
       "\n",
       "   temp_min  temp_max  ...  sun_duration_24hours  short_wave_from_sky_24hours  \\\n",
       "0       NaN       NaN  ...                   NaN                          NaN   \n",
       "1       NaN       NaN  ...                   NaN                          NaN   \n",
       "2       NaN       7.7  ...                   NaN                          NaN   \n",
       "3       NaN       NaN  ...                   NaN                          NaN   \n",
       "4       NaN       NaN  ...                   NaN                          NaN   \n",
       "\n",
       "   cloudiness       date   time      datum   Opkomst  Op ware middag  \\\n",
       "0         7.0 2023-03-11  16:00 2023-03-11  07:06:00        12:53:00   \n",
       "1         NaN 2023-03-11  17:00 2023-03-11  07:06:00        12:53:00   \n",
       "2         NaN 2023-03-11  18:00 2023-03-11  07:06:00        12:53:00   \n",
       "3         NaN 2023-03-11  19:00 2023-03-11  07:06:00        12:53:00   \n",
       "4         NaN 2023-03-11  20:00 2023-03-11  07:06:00        12:53:00   \n",
       "\n",
       "   Ondergang  kwh_per_hour  \n",
       "0   18:40:00           NaN  \n",
       "1   18:40:00          0.48  \n",
       "2   18:40:00          0.15  \n",
       "3   18:40:00          0.01  \n",
       "4   18:40:00          0.00  \n",
       "\n",
       "[5 rows x 29 columns]"
      ]
     },
     "execution_count": 28,
     "metadata": {},
     "output_type": "execute_result"
    }
   ],
   "source": [
    "df_merged.head()"
   ]
  },
  {
   "cell_type": "markdown",
   "metadata": {},
   "source": [
    "# Drop the columns that are not needed"
   ]
  },
  {
   "cell_type": "code",
   "execution_count": 29,
   "metadata": {},
   "outputs": [
    {
     "data": {
      "text/plain": [
       "0   1900-01-01 18:40:00\n",
       "1   1900-01-01 18:40:00\n",
       "2   1900-01-01 18:40:00\n",
       "3   1900-01-01 18:40:00\n",
       "4   1900-01-01 18:40:00\n",
       "Name: Ondergang, dtype: datetime64[ns]"
      ]
     },
     "execution_count": 29,
     "metadata": {},
     "output_type": "execute_result"
    }
   ],
   "source": [
    "# Convert timestamps to datetime objects if needed\n",
    "def convert_date(df_merged):\n",
    "  date_format = \"%H:%M:%S\"\n",
    "  string = str(df_merged)\n",
    "  new = datetime.strptime(string,date_format)\n",
    "  return new\n",
    "\n",
    "df_merged['Ondergang'] = df_merged['Ondergang'].apply(convert_date)\n",
    "df_merged['Ondergang'].head()\n",
    "\n",
    "\n"
   ]
  },
  {
   "cell_type": "code",
   "execution_count": 30,
   "metadata": {},
   "outputs": [],
   "source": [
    "df_merged.to_csv('../data/final.csv', index=False)"
   ]
  },
  {
   "cell_type": "markdown",
   "metadata": {},
   "source": [
    "# Load the merged dataframe"
   ]
  },
  {
   "cell_type": "code",
   "execution_count": 31,
   "metadata": {},
   "outputs": [],
   "source": [
    "df = pd.read_csv('../data/final.csv')"
   ]
  },
  {
   "cell_type": "code",
   "execution_count": 32,
   "metadata": {},
   "outputs": [
    {
     "name": "stdout",
     "output_type": "stream",
     "text": [
      "<class 'pandas.core.frame.DataFrame'>\n",
      "RangeIndex: 7907 entries, 0 to 7906\n",
      "Data columns (total 29 columns):\n",
      " #   Column                       Non-Null Count  Dtype  \n",
      "---  ------                       --------------  -----  \n",
      " 0   timestamp                    7907 non-null   object \n",
      " 1   kwh                          7907 non-null   float64\n",
      " 2   FID                          7907 non-null   object \n",
      " 3   the_geom                     7907 non-null   object \n",
      " 4   code                         7907 non-null   int64  \n",
      " 5   precip_quantity              1485 non-null   float64\n",
      " 6   precip_range                 1503 non-null   float64\n",
      " 7   temp                         7907 non-null   float64\n",
      " 8   temp_min                     313 non-null    float64\n",
      " 9   temp_max                     313 non-null    float64\n",
      " 10  temp_grass_min               296 non-null    float64\n",
      " 11  wind_speed                   7906 non-null   float64\n",
      " 12  wind_speed_unit              7907 non-null   int64  \n",
      " 13  wind_direction               7784 non-null   float64\n",
      " 14  wind_peak_speed              7905 non-null   float64\n",
      " 15  humidity_relative            6320 non-null   float64\n",
      " 16  weather_current              445 non-null    float64\n",
      " 17  pressure                     7906 non-null   float64\n",
      " 18  pressure_station_level       7907 non-null   float64\n",
      " 19  sun_duration_24hours         507 non-null    float64\n",
      " 20  short_wave_from_sky_24hours  367 non-null    float64\n",
      " 21  cloudiness                   2378 non-null   float64\n",
      " 22  date                         7907 non-null   object \n",
      " 23  time                         7907 non-null   object \n",
      " 24  datum                        7907 non-null   object \n",
      " 25  Opkomst                      7907 non-null   object \n",
      " 26  Op ware middag               7907 non-null   object \n",
      " 27  Ondergang                    7907 non-null   object \n",
      " 28  kwh_per_hour                 7906 non-null   float64\n",
      "dtypes: float64(18), int64(2), object(9)\n",
      "memory usage: 1.7+ MB\n"
     ]
    }
   ],
   "source": [
    "df.info()"
   ]
  },
  {
   "cell_type": "code",
   "execution_count": 33,
   "metadata": {},
   "outputs": [],
   "source": [
    "df.drop(\"temp_min\", axis=1, inplace=True)\n",
    "df.drop(\"temp_max\", axis=1, inplace=True)\n",
    "df.drop(\"temp_grass_min\", axis=1, inplace=True)\n",
    "df.drop(\"weather_current\", axis=1, inplace=True)\n",
    "df.drop(\"short_wave_from_sky_24hours\", axis=1, inplace=True)\n",
    "df.drop(\"sun_duration_24hours\", axis=1, inplace=True)"
   ]
  },
  {
   "cell_type": "code",
   "execution_count": 34,
   "metadata": {},
   "outputs": [
    {
     "data": {
      "text/html": [
       "<div>\n",
       "<style scoped>\n",
       "    .dataframe tbody tr th:only-of-type {\n",
       "        vertical-align: middle;\n",
       "    }\n",
       "\n",
       "    .dataframe tbody tr th {\n",
       "        vertical-align: top;\n",
       "    }\n",
       "\n",
       "    .dataframe thead th {\n",
       "        text-align: right;\n",
       "    }\n",
       "</style>\n",
       "<table border=\"1\" class=\"dataframe\">\n",
       "  <thead>\n",
       "    <tr style=\"text-align: right;\">\n",
       "      <th></th>\n",
       "      <th>timestamp</th>\n",
       "      <th>kwh</th>\n",
       "      <th>FID</th>\n",
       "      <th>the_geom</th>\n",
       "      <th>code</th>\n",
       "      <th>precip_quantity</th>\n",
       "      <th>precip_range</th>\n",
       "      <th>temp</th>\n",
       "      <th>wind_speed</th>\n",
       "      <th>wind_speed_unit</th>\n",
       "      <th>...</th>\n",
       "      <th>pressure</th>\n",
       "      <th>pressure_station_level</th>\n",
       "      <th>cloudiness</th>\n",
       "      <th>date</th>\n",
       "      <th>time</th>\n",
       "      <th>datum</th>\n",
       "      <th>Opkomst</th>\n",
       "      <th>Op ware middag</th>\n",
       "      <th>Ondergang</th>\n",
       "      <th>kwh_per_hour</th>\n",
       "    </tr>\n",
       "  </thead>\n",
       "  <tbody>\n",
       "    <tr>\n",
       "      <th>0</th>\n",
       "      <td>2023-03-11 16:00:00</td>\n",
       "      <td>0.54</td>\n",
       "      <td>synop_data.6407.2023-03-11 16:00:00+00</td>\n",
       "      <td>POINT (51.200341 2.887306)</td>\n",
       "      <td>6407</td>\n",
       "      <td>NaN</td>\n",
       "      <td>NaN</td>\n",
       "      <td>5.8</td>\n",
       "      <td>2.000</td>\n",
       "      <td>1</td>\n",
       "      <td>...</td>\n",
       "      <td>1011.5</td>\n",
       "      <td>1010.9</td>\n",
       "      <td>7.0</td>\n",
       "      <td>2023-03-11</td>\n",
       "      <td>16:00</td>\n",
       "      <td>2023-03-11</td>\n",
       "      <td>07:06:00</td>\n",
       "      <td>12:53:00</td>\n",
       "      <td>1900-01-01 18:40:00</td>\n",
       "      <td>NaN</td>\n",
       "    </tr>\n",
       "    <tr>\n",
       "      <th>1</th>\n",
       "      <td>2023-03-11 17:00:00</td>\n",
       "      <td>1.02</td>\n",
       "      <td>synop_data.6434.2023-03-11 17:00:00+00</td>\n",
       "      <td>POINT (50.980293 3.816003)</td>\n",
       "      <td>6434</td>\n",
       "      <td>NaN</td>\n",
       "      <td>NaN</td>\n",
       "      <td>6.1</td>\n",
       "      <td>1.110</td>\n",
       "      <td>1</td>\n",
       "      <td>...</td>\n",
       "      <td>1011.7</td>\n",
       "      <td>1009.7</td>\n",
       "      <td>NaN</td>\n",
       "      <td>2023-03-11</td>\n",
       "      <td>17:00</td>\n",
       "      <td>2023-03-11</td>\n",
       "      <td>07:06:00</td>\n",
       "      <td>12:53:00</td>\n",
       "      <td>1900-01-01 18:40:00</td>\n",
       "      <td>0.48</td>\n",
       "    </tr>\n",
       "    <tr>\n",
       "      <th>2</th>\n",
       "      <td>2023-03-11 18:00:00</td>\n",
       "      <td>1.17</td>\n",
       "      <td>synop_data.6418.2023-03-11 18:00:00+00</td>\n",
       "      <td>POINT (51.347375 3.201846)</td>\n",
       "      <td>6418</td>\n",
       "      <td>0.0</td>\n",
       "      <td>2.0</td>\n",
       "      <td>5.4</td>\n",
       "      <td>3.144</td>\n",
       "      <td>1</td>\n",
       "      <td>...</td>\n",
       "      <td>1011.9</td>\n",
       "      <td>1010.2</td>\n",
       "      <td>NaN</td>\n",
       "      <td>2023-03-11</td>\n",
       "      <td>18:00</td>\n",
       "      <td>2023-03-11</td>\n",
       "      <td>07:06:00</td>\n",
       "      <td>12:53:00</td>\n",
       "      <td>1900-01-01 18:40:00</td>\n",
       "      <td>0.15</td>\n",
       "    </tr>\n",
       "    <tr>\n",
       "      <th>3</th>\n",
       "      <td>2023-03-11 19:00:00</td>\n",
       "      <td>1.18</td>\n",
       "      <td>synop_data.6434.2023-03-11 19:00:00+00</td>\n",
       "      <td>POINT (50.980293 3.816003)</td>\n",
       "      <td>6434</td>\n",
       "      <td>NaN</td>\n",
       "      <td>NaN</td>\n",
       "      <td>3.7</td>\n",
       "      <td>1.442</td>\n",
       "      <td>1</td>\n",
       "      <td>...</td>\n",
       "      <td>1012.2</td>\n",
       "      <td>1010.1</td>\n",
       "      <td>NaN</td>\n",
       "      <td>2023-03-11</td>\n",
       "      <td>19:00</td>\n",
       "      <td>2023-03-11</td>\n",
       "      <td>07:06:00</td>\n",
       "      <td>12:53:00</td>\n",
       "      <td>1900-01-01 18:40:00</td>\n",
       "      <td>0.01</td>\n",
       "    </tr>\n",
       "    <tr>\n",
       "      <th>4</th>\n",
       "      <td>2023-03-11 20:00:00</td>\n",
       "      <td>1.18</td>\n",
       "      <td>synop_data.6418.2023-03-11 20:00:00+00</td>\n",
       "      <td>POINT (51.347375 3.201846)</td>\n",
       "      <td>6418</td>\n",
       "      <td>NaN</td>\n",
       "      <td>NaN</td>\n",
       "      <td>5.3</td>\n",
       "      <td>3.355</td>\n",
       "      <td>1</td>\n",
       "      <td>...</td>\n",
       "      <td>1011.7</td>\n",
       "      <td>1010.0</td>\n",
       "      <td>NaN</td>\n",
       "      <td>2023-03-11</td>\n",
       "      <td>20:00</td>\n",
       "      <td>2023-03-11</td>\n",
       "      <td>07:06:00</td>\n",
       "      <td>12:53:00</td>\n",
       "      <td>1900-01-01 18:40:00</td>\n",
       "      <td>0.00</td>\n",
       "    </tr>\n",
       "  </tbody>\n",
       "</table>\n",
       "<p>5 rows × 23 columns</p>\n",
       "</div>"
      ],
      "text/plain": [
       "             timestamp   kwh                                     FID  \\\n",
       "0  2023-03-11 16:00:00  0.54  synop_data.6407.2023-03-11 16:00:00+00   \n",
       "1  2023-03-11 17:00:00  1.02  synop_data.6434.2023-03-11 17:00:00+00   \n",
       "2  2023-03-11 18:00:00  1.17  synop_data.6418.2023-03-11 18:00:00+00   \n",
       "3  2023-03-11 19:00:00  1.18  synop_data.6434.2023-03-11 19:00:00+00   \n",
       "4  2023-03-11 20:00:00  1.18  synop_data.6418.2023-03-11 20:00:00+00   \n",
       "\n",
       "                     the_geom  code  precip_quantity  precip_range  temp  \\\n",
       "0  POINT (51.200341 2.887306)  6407              NaN           NaN   5.8   \n",
       "1  POINT (50.980293 3.816003)  6434              NaN           NaN   6.1   \n",
       "2  POINT (51.347375 3.201846)  6418              0.0           2.0   5.4   \n",
       "3  POINT (50.980293 3.816003)  6434              NaN           NaN   3.7   \n",
       "4  POINT (51.347375 3.201846)  6418              NaN           NaN   5.3   \n",
       "\n",
       "   wind_speed  wind_speed_unit  ...  pressure  pressure_station_level  \\\n",
       "0       2.000                1  ...    1011.5                  1010.9   \n",
       "1       1.110                1  ...    1011.7                  1009.7   \n",
       "2       3.144                1  ...    1011.9                  1010.2   \n",
       "3       1.442                1  ...    1012.2                  1010.1   \n",
       "4       3.355                1  ...    1011.7                  1010.0   \n",
       "\n",
       "   cloudiness        date   time       datum   Opkomst Op ware middag  \\\n",
       "0         7.0  2023-03-11  16:00  2023-03-11  07:06:00       12:53:00   \n",
       "1         NaN  2023-03-11  17:00  2023-03-11  07:06:00       12:53:00   \n",
       "2         NaN  2023-03-11  18:00  2023-03-11  07:06:00       12:53:00   \n",
       "3         NaN  2023-03-11  19:00  2023-03-11  07:06:00       12:53:00   \n",
       "4         NaN  2023-03-11  20:00  2023-03-11  07:06:00       12:53:00   \n",
       "\n",
       "             Ondergang kwh_per_hour  \n",
       "0  1900-01-01 18:40:00          NaN  \n",
       "1  1900-01-01 18:40:00         0.48  \n",
       "2  1900-01-01 18:40:00         0.15  \n",
       "3  1900-01-01 18:40:00         0.01  \n",
       "4  1900-01-01 18:40:00         0.00  \n",
       "\n",
       "[5 rows x 23 columns]"
      ]
     },
     "execution_count": 34,
     "metadata": {},
     "output_type": "execute_result"
    }
   ],
   "source": [
    "df.head()"
   ]
  },
  {
   "cell_type": "code",
   "execution_count": 35,
   "metadata": {},
   "outputs": [
    {
     "name": "stdout",
     "output_type": "stream",
     "text": [
      "<class 'pandas.core.frame.DataFrame'>\n",
      "RangeIndex: 7907 entries, 0 to 7906\n",
      "Data columns (total 23 columns):\n",
      " #   Column                  Non-Null Count  Dtype  \n",
      "---  ------                  --------------  -----  \n",
      " 0   timestamp               7907 non-null   object \n",
      " 1   kwh                     7907 non-null   float64\n",
      " 2   FID                     7907 non-null   object \n",
      " 3   the_geom                7907 non-null   object \n",
      " 4   code                    7907 non-null   int64  \n",
      " 5   precip_quantity         1485 non-null   float64\n",
      " 6   precip_range            1503 non-null   float64\n",
      " 7   temp                    7907 non-null   float64\n",
      " 8   wind_speed              7906 non-null   float64\n",
      " 9   wind_speed_unit         7907 non-null   int64  \n",
      " 10  wind_direction          7784 non-null   float64\n",
      " 11  wind_peak_speed         7905 non-null   float64\n",
      " 12  humidity_relative       6320 non-null   float64\n",
      " 13  pressure                7906 non-null   float64\n",
      " 14  pressure_station_level  7907 non-null   float64\n",
      " 15  cloudiness              2378 non-null   float64\n",
      " 16  date                    7907 non-null   object \n",
      " 17  time                    7907 non-null   object \n",
      " 18  datum                   7907 non-null   object \n",
      " 19  Opkomst                 7907 non-null   object \n",
      " 20  Op ware middag          7907 non-null   object \n",
      " 21  Ondergang               7907 non-null   object \n",
      " 22  kwh_per_hour            7906 non-null   float64\n",
      "dtypes: float64(12), int64(2), object(9)\n",
      "memory usage: 1.4+ MB\n"
     ]
    }
   ],
   "source": [
    "df.info()"
   ]
  },
  {
   "cell_type": "code",
   "execution_count": 36,
   "metadata": {},
   "outputs": [],
   "source": [
    "df.to_csv('../data/final.csv', index=False)"
   ]
  }
 ],
 "metadata": {
  "kernelspec": {
   "display_name": "Python 3",
   "language": "python",
   "name": "python3"
  },
  "language_info": {
   "codemirror_mode": {
    "name": "ipython",
    "version": 3
   },
   "file_extension": ".py",
   "mimetype": "text/x-python",
   "name": "python",
   "nbconvert_exporter": "python",
   "pygments_lexer": "ipython3",
   "version": "3.9.13"
  }
 },
 "nbformat": 4,
 "nbformat_minor": 2
}
