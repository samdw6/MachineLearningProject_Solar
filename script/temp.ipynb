{
 "cells": [
  {
   "cell_type": "code",
   "execution_count": 61,
   "metadata": {},
   "outputs": [],
   "source": [
    "import pandas as pd\n",
    "import joblib\n",
    "from datetime import datetime"
   ]
  },
  {
   "cell_type": "code",
   "execution_count": 62,
   "metadata": {},
   "outputs": [],
   "source": [
    "model = joblib.load(\"C:/HoGent/Jaar2/ML/Project/MachineLearningProject_Solar/script/best_model.joblib\")\n"
   ]
  },
  {
   "cell_type": "code",
   "execution_count": 63,
   "metadata": {},
   "outputs": [],
   "source": [
    "forecast_df = pd.read_csv(r\"C:/HoGent/Jaar2/ML/Project/MachineLearningProject_Solar/data/forecast.csv\")\n",
    "sunset_df = pd.read_csv(r\"C:/HoGent/Jaar2/ML/Project/MachineLearningProject_Solar/data/sunrise-sunset.csv\")\n"
   ]
  },
  {
   "cell_type": "code",
   "execution_count": 64,
   "metadata": {},
   "outputs": [
    {
     "name": "stdout",
     "output_type": "stream",
     "text": [
      "<class 'pandas.core.frame.DataFrame'>\n",
      "RangeIndex: 48 entries, 0 to 47\n",
      "Data columns (total 5 columns):\n",
      " #   Column             Non-Null Count  Dtype  \n",
      "---  ------             --------------  -----  \n",
      " 0   timestamp          48 non-null     object \n",
      " 1   temp               48 non-null     float64\n",
      " 2   pressure           48 non-null     int64  \n",
      " 3   cloudiness         48 non-null     float64\n",
      " 4   humidity_relative  48 non-null     int64  \n",
      "dtypes: float64(2), int64(2), object(1)\n",
      "memory usage: 2.0+ KB\n"
     ]
    }
   ],
   "source": [
    "forecast_df.info()"
   ]
  },
  {
   "cell_type": "code",
   "execution_count": 65,
   "metadata": {},
   "outputs": [
    {
     "name": "stdout",
     "output_type": "stream",
     "text": [
      "<class 'pandas.core.frame.DataFrame'>\n",
      "RangeIndex: 731 entries, 0 to 730\n",
      "Data columns (total 4 columns):\n",
      " #   Column          Non-Null Count  Dtype \n",
      "---  ------          --------------  ----- \n",
      " 0   datum           731 non-null    object\n",
      " 1   Opkomst         731 non-null    object\n",
      " 2   Op ware middag  731 non-null    object\n",
      " 3   Ondergang       731 non-null    object\n",
      "dtypes: object(4)\n",
      "memory usage: 23.0+ KB\n"
     ]
    }
   ],
   "source": [
    "sunset_df.info()"
   ]
  },
  {
   "cell_type": "code",
   "execution_count": 66,
   "metadata": {},
   "outputs": [],
   "source": [
    "# day of the year\n",
    "forecast_df['timestamp'] = pd.to_datetime(forecast_df['timestamp'])\n",
    "forecast_df['day_of_year'] = forecast_df['timestamp'].dt.dayofyear\n",
    "\n",
    "# sunrise and sunset\n",
    "sunset_df['datum'] = pd.to_datetime(sunset_df['datum'])\n",
    "sunset_df['day_of_year'] = sunset_df['datum'].dt.dayofyear\n"
   ]
  },
  {
   "cell_type": "code",
   "execution_count": 67,
   "metadata": {},
   "outputs": [
    {
     "data": {
      "text/html": [
       "<div>\n",
       "<style scoped>\n",
       "    .dataframe tbody tr th:only-of-type {\n",
       "        vertical-align: middle;\n",
       "    }\n",
       "\n",
       "    .dataframe tbody tr th {\n",
       "        vertical-align: top;\n",
       "    }\n",
       "\n",
       "    .dataframe thead th {\n",
       "        text-align: right;\n",
       "    }\n",
       "</style>\n",
       "<table border=\"1\" class=\"dataframe\">\n",
       "  <thead>\n",
       "    <tr style=\"text-align: right;\">\n",
       "      <th></th>\n",
       "      <th>timestamp</th>\n",
       "      <th>temp</th>\n",
       "      <th>pressure</th>\n",
       "      <th>cloudiness</th>\n",
       "      <th>humidity_relative</th>\n",
       "      <th>day_of_year</th>\n",
       "    </tr>\n",
       "  </thead>\n",
       "  <tbody>\n",
       "    <tr>\n",
       "      <th>0</th>\n",
       "      <td>2024-05-18 22:00:00</td>\n",
       "      <td>13.91</td>\n",
       "      <td>1004</td>\n",
       "      <td>0.40</td>\n",
       "      <td>88</td>\n",
       "      <td>139</td>\n",
       "    </tr>\n",
       "    <tr>\n",
       "      <th>1</th>\n",
       "      <td>2024-05-18 23:00:00</td>\n",
       "      <td>13.43</td>\n",
       "      <td>1006</td>\n",
       "      <td>0.40</td>\n",
       "      <td>90</td>\n",
       "      <td>139</td>\n",
       "    </tr>\n",
       "    <tr>\n",
       "      <th>2</th>\n",
       "      <td>2024-05-19 00:00:00</td>\n",
       "      <td>12.86</td>\n",
       "      <td>1007</td>\n",
       "      <td>0.48</td>\n",
       "      <td>92</td>\n",
       "      <td>140</td>\n",
       "    </tr>\n",
       "    <tr>\n",
       "      <th>3</th>\n",
       "      <td>2024-05-19 01:00:00</td>\n",
       "      <td>12.30</td>\n",
       "      <td>1009</td>\n",
       "      <td>0.56</td>\n",
       "      <td>94</td>\n",
       "      <td>140</td>\n",
       "    </tr>\n",
       "    <tr>\n",
       "      <th>4</th>\n",
       "      <td>2024-05-19 02:00:00</td>\n",
       "      <td>11.74</td>\n",
       "      <td>1010</td>\n",
       "      <td>0.72</td>\n",
       "      <td>96</td>\n",
       "      <td>140</td>\n",
       "    </tr>\n",
       "  </tbody>\n",
       "</table>\n",
       "</div>"
      ],
      "text/plain": [
       "            timestamp   temp  pressure  cloudiness  humidity_relative  \\\n",
       "0 2024-05-18 22:00:00  13.91      1004        0.40                 88   \n",
       "1 2024-05-18 23:00:00  13.43      1006        0.40                 90   \n",
       "2 2024-05-19 00:00:00  12.86      1007        0.48                 92   \n",
       "3 2024-05-19 01:00:00  12.30      1009        0.56                 94   \n",
       "4 2024-05-19 02:00:00  11.74      1010        0.72                 96   \n",
       "\n",
       "   day_of_year  \n",
       "0          139  \n",
       "1          139  \n",
       "2          140  \n",
       "3          140  \n",
       "4          140  "
      ]
     },
     "execution_count": 67,
     "metadata": {},
     "output_type": "execute_result"
    }
   ],
   "source": [
    "forecast_df.head()"
   ]
  },
  {
   "cell_type": "code",
   "execution_count": 68,
   "metadata": {},
   "outputs": [
    {
     "data": {
      "text/html": [
       "<div>\n",
       "<style scoped>\n",
       "    .dataframe tbody tr th:only-of-type {\n",
       "        vertical-align: middle;\n",
       "    }\n",
       "\n",
       "    .dataframe tbody tr th {\n",
       "        vertical-align: top;\n",
       "    }\n",
       "\n",
       "    .dataframe thead th {\n",
       "        text-align: right;\n",
       "    }\n",
       "</style>\n",
       "<table border=\"1\" class=\"dataframe\">\n",
       "  <thead>\n",
       "    <tr style=\"text-align: right;\">\n",
       "      <th></th>\n",
       "      <th>datum</th>\n",
       "      <th>Opkomst</th>\n",
       "      <th>Op ware middag</th>\n",
       "      <th>Ondergang</th>\n",
       "      <th>day_of_year</th>\n",
       "    </tr>\n",
       "  </thead>\n",
       "  <tbody>\n",
       "    <tr>\n",
       "      <th>0</th>\n",
       "      <td>2023-01-01</td>\n",
       "      <td>08:45:00</td>\n",
       "      <td>12:46:00</td>\n",
       "      <td>16:47:00</td>\n",
       "      <td>1</td>\n",
       "    </tr>\n",
       "    <tr>\n",
       "      <th>1</th>\n",
       "      <td>2023-01-02</td>\n",
       "      <td>08:45:00</td>\n",
       "      <td>12:46:00</td>\n",
       "      <td>16:48:00</td>\n",
       "      <td>2</td>\n",
       "    </tr>\n",
       "    <tr>\n",
       "      <th>2</th>\n",
       "      <td>2023-01-03</td>\n",
       "      <td>08:45:00</td>\n",
       "      <td>12:47:00</td>\n",
       "      <td>16:49:00</td>\n",
       "      <td>3</td>\n",
       "    </tr>\n",
       "    <tr>\n",
       "      <th>3</th>\n",
       "      <td>2023-01-04</td>\n",
       "      <td>08:44:00</td>\n",
       "      <td>12:47:00</td>\n",
       "      <td>16:51:00</td>\n",
       "      <td>4</td>\n",
       "    </tr>\n",
       "    <tr>\n",
       "      <th>4</th>\n",
       "      <td>2023-01-05</td>\n",
       "      <td>08:44:00</td>\n",
       "      <td>12:48:00</td>\n",
       "      <td>16:52:00</td>\n",
       "      <td>5</td>\n",
       "    </tr>\n",
       "  </tbody>\n",
       "</table>\n",
       "</div>"
      ],
      "text/plain": [
       "       datum   Opkomst Op ware middag Ondergang  day_of_year\n",
       "0 2023-01-01  08:45:00       12:46:00  16:47:00            1\n",
       "1 2023-01-02  08:45:00       12:46:00  16:48:00            2\n",
       "2 2023-01-03  08:45:00       12:47:00  16:49:00            3\n",
       "3 2023-01-04  08:44:00       12:47:00  16:51:00            4\n",
       "4 2023-01-05  08:44:00       12:48:00  16:52:00            5"
      ]
     },
     "execution_count": 68,
     "metadata": {},
     "output_type": "execute_result"
    }
   ],
   "source": [
    "sunset_df.head()"
   ]
  },
  {
   "cell_type": "code",
   "execution_count": 69,
   "metadata": {},
   "outputs": [],
   "source": [
    "# merge the two dataframes\n",
    "merged_forecast_df = pd.merge(forecast_df, sunset_df, on='day_of_year', how='left')"
   ]
  },
  {
   "cell_type": "code",
   "execution_count": 70,
   "metadata": {},
   "outputs": [
    {
     "data": {
      "text/html": [
       "<div>\n",
       "<style scoped>\n",
       "    .dataframe tbody tr th:only-of-type {\n",
       "        vertical-align: middle;\n",
       "    }\n",
       "\n",
       "    .dataframe tbody tr th {\n",
       "        vertical-align: top;\n",
       "    }\n",
       "\n",
       "    .dataframe thead th {\n",
       "        text-align: right;\n",
       "    }\n",
       "</style>\n",
       "<table border=\"1\" class=\"dataframe\">\n",
       "  <thead>\n",
       "    <tr style=\"text-align: right;\">\n",
       "      <th></th>\n",
       "      <th>timestamp</th>\n",
       "      <th>temp</th>\n",
       "      <th>pressure</th>\n",
       "      <th>cloudiness</th>\n",
       "      <th>humidity_relative</th>\n",
       "      <th>day_of_year</th>\n",
       "      <th>datum</th>\n",
       "      <th>Opkomst</th>\n",
       "      <th>Op ware middag</th>\n",
       "      <th>Ondergang</th>\n",
       "    </tr>\n",
       "  </thead>\n",
       "  <tbody>\n",
       "    <tr>\n",
       "      <th>0</th>\n",
       "      <td>2024-05-18 22:00:00</td>\n",
       "      <td>13.91</td>\n",
       "      <td>1004</td>\n",
       "      <td>0.40</td>\n",
       "      <td>88</td>\n",
       "      <td>139</td>\n",
       "      <td>2023-05-19</td>\n",
       "      <td>05:49:00</td>\n",
       "      <td>13:39:00</td>\n",
       "      <td>21:30:00</td>\n",
       "    </tr>\n",
       "    <tr>\n",
       "      <th>1</th>\n",
       "      <td>2024-05-18 22:00:00</td>\n",
       "      <td>13.91</td>\n",
       "      <td>1004</td>\n",
       "      <td>0.40</td>\n",
       "      <td>88</td>\n",
       "      <td>139</td>\n",
       "      <td>2024-05-18</td>\n",
       "      <td>05:49:00</td>\n",
       "      <td>13:39:00</td>\n",
       "      <td>21:30:00</td>\n",
       "    </tr>\n",
       "    <tr>\n",
       "      <th>2</th>\n",
       "      <td>2024-05-18 23:00:00</td>\n",
       "      <td>13.43</td>\n",
       "      <td>1006</td>\n",
       "      <td>0.40</td>\n",
       "      <td>90</td>\n",
       "      <td>139</td>\n",
       "      <td>2023-05-19</td>\n",
       "      <td>05:49:00</td>\n",
       "      <td>13:39:00</td>\n",
       "      <td>21:30:00</td>\n",
       "    </tr>\n",
       "    <tr>\n",
       "      <th>3</th>\n",
       "      <td>2024-05-18 23:00:00</td>\n",
       "      <td>13.43</td>\n",
       "      <td>1006</td>\n",
       "      <td>0.40</td>\n",
       "      <td>90</td>\n",
       "      <td>139</td>\n",
       "      <td>2024-05-18</td>\n",
       "      <td>05:49:00</td>\n",
       "      <td>13:39:00</td>\n",
       "      <td>21:30:00</td>\n",
       "    </tr>\n",
       "    <tr>\n",
       "      <th>4</th>\n",
       "      <td>2024-05-19 00:00:00</td>\n",
       "      <td>12.86</td>\n",
       "      <td>1007</td>\n",
       "      <td>0.48</td>\n",
       "      <td>92</td>\n",
       "      <td>140</td>\n",
       "      <td>2023-05-20</td>\n",
       "      <td>05:47:00</td>\n",
       "      <td>13:39:00</td>\n",
       "      <td>21:32:00</td>\n",
       "    </tr>\n",
       "  </tbody>\n",
       "</table>\n",
       "</div>"
      ],
      "text/plain": [
       "            timestamp   temp  pressure  cloudiness  humidity_relative  \\\n",
       "0 2024-05-18 22:00:00  13.91      1004        0.40                 88   \n",
       "1 2024-05-18 22:00:00  13.91      1004        0.40                 88   \n",
       "2 2024-05-18 23:00:00  13.43      1006        0.40                 90   \n",
       "3 2024-05-18 23:00:00  13.43      1006        0.40                 90   \n",
       "4 2024-05-19 00:00:00  12.86      1007        0.48                 92   \n",
       "\n",
       "   day_of_year      datum   Opkomst Op ware middag Ondergang  \n",
       "0          139 2023-05-19  05:49:00       13:39:00  21:30:00  \n",
       "1          139 2024-05-18  05:49:00       13:39:00  21:30:00  \n",
       "2          139 2023-05-19  05:49:00       13:39:00  21:30:00  \n",
       "3          139 2024-05-18  05:49:00       13:39:00  21:30:00  \n",
       "4          140 2023-05-20  05:47:00       13:39:00  21:32:00  "
      ]
     },
     "execution_count": 70,
     "metadata": {},
     "output_type": "execute_result"
    }
   ],
   "source": [
    "merged_forecast_df.head()"
   ]
  },
  {
   "cell_type": "code",
   "execution_count": 71,
   "metadata": {},
   "outputs": [],
   "source": [
    "merged_forecast_df.drop_duplicates(subset=['timestamp'], inplace=True)"
   ]
  },
  {
   "cell_type": "code",
   "execution_count": 72,
   "metadata": {},
   "outputs": [],
   "source": [
    "merged_forecast_df['hour'] = merged_forecast_df['timestamp'].dt.hour"
   ]
  },
  {
   "cell_type": "code",
   "execution_count": 73,
   "metadata": {},
   "outputs": [
    {
     "data": {
      "text/plain": [
       "' \\nmerged_forecast_df[\"Opkomst\"] = pd.to_datetime(merged_forecast_df[\"Opkomst\"], utc=True)\\nmerged_forecast_df[\"Op ware middag\"] = pd.to_datetime(merged_forecast_df[\"Op ware middag\"], utc=True)\\nmerged_forecast_df[\"Ondergang\"] = pd.to_datetime(merged_forecast_df[\"Ondergang\"], utc=True) '"
      ]
     },
     "execution_count": 73,
     "metadata": {},
     "output_type": "execute_result"
    }
   ],
   "source": [
    "\"\"\" \n",
    "merged_forecast_df[\"Opkomst\"] = pd.to_datetime(merged_forecast_df[\"Opkomst\"], utc=True)\n",
    "merged_forecast_df[\"Op ware middag\"] = pd.to_datetime(merged_forecast_df[\"Op ware middag\"], utc=True)\n",
    "merged_forecast_df[\"Ondergang\"] = pd.to_datetime(merged_forecast_df[\"Ondergang\"], utc=True) \"\"\""
   ]
  },
  {
   "cell_type": "code",
   "execution_count": 74,
   "metadata": {},
   "outputs": [
    {
     "name": "stdout",
     "output_type": "stream",
     "text": [
      "<class 'pandas.core.frame.DataFrame'>\n",
      "Int64Index: 48 entries, 0 to 94\n",
      "Data columns (total 11 columns):\n",
      " #   Column             Non-Null Count  Dtype         \n",
      "---  ------             --------------  -----         \n",
      " 0   timestamp          48 non-null     datetime64[ns]\n",
      " 1   temp               48 non-null     float64       \n",
      " 2   pressure           48 non-null     int64         \n",
      " 3   cloudiness         48 non-null     float64       \n",
      " 4   humidity_relative  48 non-null     int64         \n",
      " 5   day_of_year        48 non-null     int64         \n",
      " 6   datum              48 non-null     datetime64[ns]\n",
      " 7   Opkomst            48 non-null     object        \n",
      " 8   Op ware middag     48 non-null     object        \n",
      " 9   Ondergang          48 non-null     object        \n",
      " 10  hour               48 non-null     int64         \n",
      "dtypes: datetime64[ns](2), float64(2), int64(4), object(3)\n",
      "memory usage: 4.5+ KB\n"
     ]
    }
   ],
   "source": [
    "merged_forecast_df.info()"
   ]
  },
  {
   "cell_type": "code",
   "execution_count": 75,
   "metadata": {},
   "outputs": [],
   "source": [
    "# convert to floats (Ondergang, Opkomst, Op ware middag)\n",
    "merged_forecast_df['Ondergang'] = merged_forecast_df['Ondergang'].astype(str).str.replace(':', '').astype(float)\n",
    "merged_forecast_df['Opkomst'] = merged_forecast_df['Opkomst'].astype(str).str.replace(':','').astype(float)\n",
    "merged_forecast_df['Op ware middag'] = merged_forecast_df['Op ware middag'].astype(str).str.replace(':','').astype(float)"
   ]
  },
  {
   "cell_type": "code",
   "execution_count": 76,
   "metadata": {},
   "outputs": [
    {
     "data": {
      "text/html": [
       "<div>\n",
       "<style scoped>\n",
       "    .dataframe tbody tr th:only-of-type {\n",
       "        vertical-align: middle;\n",
       "    }\n",
       "\n",
       "    .dataframe tbody tr th {\n",
       "        vertical-align: top;\n",
       "    }\n",
       "\n",
       "    .dataframe thead th {\n",
       "        text-align: right;\n",
       "    }\n",
       "</style>\n",
       "<table border=\"1\" class=\"dataframe\">\n",
       "  <thead>\n",
       "    <tr style=\"text-align: right;\">\n",
       "      <th></th>\n",
       "      <th>timestamp</th>\n",
       "      <th>temp</th>\n",
       "      <th>pressure</th>\n",
       "      <th>cloudiness</th>\n",
       "      <th>humidity_relative</th>\n",
       "      <th>day_of_year</th>\n",
       "      <th>datum</th>\n",
       "      <th>Opkomst</th>\n",
       "      <th>Op ware middag</th>\n",
       "      <th>Ondergang</th>\n",
       "      <th>hour</th>\n",
       "    </tr>\n",
       "  </thead>\n",
       "  <tbody>\n",
       "    <tr>\n",
       "      <th>0</th>\n",
       "      <td>2024-05-18 22:00:00</td>\n",
       "      <td>13.91</td>\n",
       "      <td>1004</td>\n",
       "      <td>0.40</td>\n",
       "      <td>88</td>\n",
       "      <td>139</td>\n",
       "      <td>2023-05-19</td>\n",
       "      <td>54900.0</td>\n",
       "      <td>133900.0</td>\n",
       "      <td>213000.0</td>\n",
       "      <td>22</td>\n",
       "    </tr>\n",
       "    <tr>\n",
       "      <th>2</th>\n",
       "      <td>2024-05-18 23:00:00</td>\n",
       "      <td>13.43</td>\n",
       "      <td>1006</td>\n",
       "      <td>0.40</td>\n",
       "      <td>90</td>\n",
       "      <td>139</td>\n",
       "      <td>2023-05-19</td>\n",
       "      <td>54900.0</td>\n",
       "      <td>133900.0</td>\n",
       "      <td>213000.0</td>\n",
       "      <td>23</td>\n",
       "    </tr>\n",
       "    <tr>\n",
       "      <th>4</th>\n",
       "      <td>2024-05-19 00:00:00</td>\n",
       "      <td>12.86</td>\n",
       "      <td>1007</td>\n",
       "      <td>0.48</td>\n",
       "      <td>92</td>\n",
       "      <td>140</td>\n",
       "      <td>2023-05-20</td>\n",
       "      <td>54700.0</td>\n",
       "      <td>133900.0</td>\n",
       "      <td>213200.0</td>\n",
       "      <td>0</td>\n",
       "    </tr>\n",
       "    <tr>\n",
       "      <th>6</th>\n",
       "      <td>2024-05-19 01:00:00</td>\n",
       "      <td>12.30</td>\n",
       "      <td>1009</td>\n",
       "      <td>0.56</td>\n",
       "      <td>94</td>\n",
       "      <td>140</td>\n",
       "      <td>2023-05-20</td>\n",
       "      <td>54700.0</td>\n",
       "      <td>133900.0</td>\n",
       "      <td>213200.0</td>\n",
       "      <td>1</td>\n",
       "    </tr>\n",
       "    <tr>\n",
       "      <th>8</th>\n",
       "      <td>2024-05-19 02:00:00</td>\n",
       "      <td>11.74</td>\n",
       "      <td>1010</td>\n",
       "      <td>0.72</td>\n",
       "      <td>96</td>\n",
       "      <td>140</td>\n",
       "      <td>2023-05-20</td>\n",
       "      <td>54700.0</td>\n",
       "      <td>133900.0</td>\n",
       "      <td>213200.0</td>\n",
       "      <td>2</td>\n",
       "    </tr>\n",
       "  </tbody>\n",
       "</table>\n",
       "</div>"
      ],
      "text/plain": [
       "            timestamp   temp  pressure  cloudiness  humidity_relative  \\\n",
       "0 2024-05-18 22:00:00  13.91      1004        0.40                 88   \n",
       "2 2024-05-18 23:00:00  13.43      1006        0.40                 90   \n",
       "4 2024-05-19 00:00:00  12.86      1007        0.48                 92   \n",
       "6 2024-05-19 01:00:00  12.30      1009        0.56                 94   \n",
       "8 2024-05-19 02:00:00  11.74      1010        0.72                 96   \n",
       "\n",
       "   day_of_year      datum  Opkomst  Op ware middag  Ondergang  hour  \n",
       "0          139 2023-05-19  54900.0        133900.0   213000.0    22  \n",
       "2          139 2023-05-19  54900.0        133900.0   213000.0    23  \n",
       "4          140 2023-05-20  54700.0        133900.0   213200.0     0  \n",
       "6          140 2023-05-20  54700.0        133900.0   213200.0     1  \n",
       "8          140 2023-05-20  54700.0        133900.0   213200.0     2  "
      ]
     },
     "execution_count": 76,
     "metadata": {},
     "output_type": "execute_result"
    }
   ],
   "source": [
    "merged_forecast_df.head()"
   ]
  },
  {
   "cell_type": "code",
   "execution_count": 77,
   "metadata": {},
   "outputs": [],
   "source": [
    "# drop columns\n",
    "merged_forecast_df = merged_forecast_df.drop(columns=['timestamp', 'datum'])"
   ]
  },
  {
   "cell_type": "code",
   "execution_count": 78,
   "metadata": {},
   "outputs": [],
   "source": [
    "merged_forecast_df = merged_forecast_df[['temp', 'humidity_relative', 'pressure', 'cloudiness', 'Opkomst', 'Op ware middag', 'Ondergang', 'hour', 'day_of_year']]"
   ]
  },
  {
   "cell_type": "code",
   "execution_count": 79,
   "metadata": {},
   "outputs": [
    {
     "name": "stdout",
     "output_type": "stream",
     "text": [
      "    prediction\n",
      "0     0.002846\n",
      "1     0.002159\n",
      "2     0.000000\n",
      "3     0.000000\n",
      "4     0.000000\n",
      "5     0.000000\n",
      "6     0.000000\n",
      "7     0.000000\n",
      "8     0.004893\n",
      "9     0.027428\n",
      "10    0.063890\n",
      "11    0.005616\n",
      "12    0.717826\n",
      "13    0.969335\n",
      "14    1.170293\n",
      "15    1.194508\n",
      "16    1.187460\n",
      "17    0.926562\n",
      "18    0.802842\n",
      "19    0.693158\n",
      "20    0.348809\n",
      "21    0.109675\n",
      "22    0.016875\n",
      "23    0.001623\n",
      "24    0.000069\n",
      "25    0.000122\n",
      "26    0.000000\n",
      "27    0.000000\n",
      "28    0.000000\n",
      "29    0.000000\n",
      "30    0.000000\n",
      "31    0.000000\n",
      "32    0.004720\n",
      "33    0.027961\n",
      "34    0.064362\n",
      "35    0.010939\n",
      "36    0.625056\n",
      "37    0.623408\n",
      "38    0.826889\n",
      "39    0.847055\n",
      "40    0.834178\n",
      "41    0.871269\n",
      "42    0.790922\n",
      "43    0.664333\n",
      "44    0.324384\n",
      "45    0.095514\n",
      "46    0.016272\n",
      "47    0.007430\n"
     ]
    }
   ],
   "source": [
    "# run model on forecast data\n",
    "predictions = model.predict(merged_forecast_df)\n",
    "# save predictions\n",
    "output_df = pd.DataFrame({'prediction': predictions})\n",
    "\n",
    "print(output_df)"
   ]
  }
 ],
 "metadata": {
  "kernelspec": {
   "display_name": "Python 3",
   "language": "python",
   "name": "python3"
  },
  "language_info": {
   "codemirror_mode": {
    "name": "ipython",
    "version": 3
   },
   "file_extension": ".py",
   "mimetype": "text/x-python",
   "name": "python",
   "nbconvert_exporter": "python",
   "pygments_lexer": "ipython3",
   "version": "3.9.13"
  }
 },
 "nbformat": 4,
 "nbformat_minor": 2
}
